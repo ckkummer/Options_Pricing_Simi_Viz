{
 "cells": [
  {
   "cell_type": "code",
   "execution_count": 2,
   "id": "fad644cb-e6a2-4e57-a350-024993391e6b",
   "metadata": {},
   "outputs": [],
   "source": [
    "!pip install ipywidgets\n",
    "\n",
    "import numpy as np\n",
    "import matplotlib.pyplot as plt\n",
    "from ipywidgets import interact, FloatSlider, IntSlider"
   ]
  },
  {
   "cell_type": "code",
   "execution_count": 31,
   "id": "228054e8-1443-406e-a5cc-128539f0d2c2",
   "metadata": {},
   "outputs": [
    {
     "data": {
      "application/vnd.jupyter.widget-view+json": {
       "model_id": "643c2c0144e44d4ea52e3ba6a8380bcd",
       "version_major": 2,
       "version_minor": 0
      },
      "text/plain": [
       "interactive(children=(IntSlider(value=100, description='Start Price:', max=200, min=50), IntSlider(value=110, …"
      ]
     },
     "metadata": {},
     "output_type": "display_data"
    }
   ],
   "source": [
    "def generate_price_path(S0, mu, sigma, T, steps):\n",
    "    \"\"\"\n",
    "    Generates a stock price path using Geometric Brownian Motion.\n",
    "\n",
    "    Args:\n",
    "        S0 (float): Initial stock price.\n",
    "        mu (float): Expected annual return (drift).\n",
    "        sigma (float): Annual volatility.\n",
    "        T (int): Time to expiration in years.\n",
    "        steps (int): Number of time steps.\n",
    "\n",
    "    Returns:\n",
    "        numpy.ndarray: An array of stock prices for the path.\n",
    "    \"\"\"\n",
    "    dt = T / steps\n",
    "    Z = np.random.standard_normal(steps)\n",
    "    price_path = S0 * np.exp(np.cumsum((mu - 0.5 * sigma**2) * dt + sigma * np.sqrt(dt) * Z))\n",
    "    return np.insert(price_path, 0, S0)\n",
    "\n",
    "\n",
    "def run_monte_carlo_simulation(S0, strike_price, T, mu, sigma, r, steps, num_simulations):\n",
    "    \"\"\"\n",
    "    Prices options and visualizes the simulation.\n",
    "    \n",
    "    Args:\n",
    "        S0 (float): Initial stock price.\n",
    "        strike_price (float): Option's strike price.\n",
    "        T (float): Time to expiration in years.\n",
    "        mu (float): Expected annual return (drift).\n",
    "        sigma (float): Annual volatility.\n",
    "        r (float): Annual risk-free interest rate.\n",
    "        steps (int): Number of time steps.\n",
    "        num_simulations (int): Number of paths to generate.\n",
    "    \"\"\"\n",
    "    \n",
    "    final_prices = []\n",
    "    call_payoffs = []\n",
    "    put_payoffs = []\n",
    "    \n",
    "    # --- Run the Simulation ---\n",
    "    for _ in range(num_simulations):\n",
    "        path = generate_price_path(S0, mu, sigma, T, steps)\n",
    "        final_prices.append(path[-1])\n",
    "        \n",
    "        # Calculate payoffs for this one path\n",
    "        call_payoffs.append(max(0, path[-1] - strike_price))\n",
    "        put_payoffs.append(max(0, strike_price - path[-1]))\n",
    "        \n",
    "    # --- Calculate Option Prices ---\n",
    "    # We take the average payoff and \"discount\" it back to today's value\n",
    "    # The discounting formula is: Present Value = Future Value * exp(-r * T)\n",
    "    \n",
    "    call_price = np.mean(call_payoffs) * np.exp(-r * T)\n",
    "    put_price = np.mean(put_payoffs) * np.exp(-r * T)\n",
    "    \n",
    "    # --- Display Results ---\n",
    "    print(f\"--- Option Pricing Results ---\")\n",
    "    print(f\"Fair Value of Call Option: ${call_price:.2f}\")\n",
    "    print(f\"Fair Value of Put Option:  ${put_price:.2f}\")\n",
    "    print(\"----------------------------\")\n",
    "    \n",
    "    # --- Plotting ---\n",
    "    plt.style.use('dark_background')\n",
    "    plt.figure(figsize=(12, 7))\n",
    "    \n",
    "    # Plot a subset of paths to keep the viz clean\n",
    "    for i in range(min(num_simulations, 1000)):\n",
    "        path = generate_price_path(S0, mu, sigma, T, steps)\n",
    "        plt.plot(path, color='cyan', alpha=0.05)\n",
    "\n",
    "    plt.axhline(y=strike_price, color='lime', linestyle='--', label=f'Strike Price: ${strike_price}')\n",
    "    plt.title(f'{num_simulations} Simulated Price Paths')\n",
    "    plt.xlabel(f'Steps ({steps} total)')\n",
    "    plt.ylabel('Stock Price ($)')\n",
    "    plt.legend()\n",
    "    plt.grid(True, alpha=0.2)\n",
    "    plt.show()\n",
    "\n",
    "# --- Create the Interactive Widget ---\n",
    "interact(run_monte_carlo_simulation,\n",
    "         S0=IntSlider(value=100, min=50, max=200, step=1, description=\"Start Price:\"),\n",
    "         strike_price=IntSlider(value=110, min=50, max=200, step=1, description=\"Strike Price:\"),\n",
    "         T=FloatSlider(value=1.0, min=0.1, max=5.0, step=0.1, description=\"Years (T):\"),\n",
    "         mu=FloatSlider(value=0.05, min=-0.1, max=0.2, step=0.01, description=\"Drift (μ):\"),\n",
    "         sigma=FloatSlider(value=0.2, min=0.05, max=1.0, step=0.01, description=\"Volatility (σ):\"),\n",
    "         r=FloatSlider(value=0.02, min=0.0, max=0.1, step=0.005, description=\"Risk-Free Rate:\"),\n",
    "         steps=IntSlider(value=252, min=50, max=500, step=1, description=\"Steps:\"),\n",
    "         num_simulations=IntSlider(value=2000, min=500, max=10000, step=500, description=\"Simulations:\")\n",
    ");"
   ]
  }
 ],
 "metadata": {
  "kernelspec": {
   "display_name": "Python 3 (ipykernel)",
   "language": "python",
   "name": "python3"
  },
  "language_info": {
   "codemirror_mode": {
    "name": "ipython",
    "version": 3
   },
   "file_extension": ".py",
   "mimetype": "text/x-python",
   "name": "python",
   "nbconvert_exporter": "python",
   "pygments_lexer": "ipython3",
   "version": "3.11.5"
  }
 },
 "nbformat": 4,
 "nbformat_minor": 5
}
